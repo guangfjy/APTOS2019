{
 "cells": [
  {
   "cell_type": "markdown",
   "metadata": {},
   "source": [
    "这份方案在kaggle比较中取得第43名，排名前2%，Inference推理时的模型选择采用了Stacking堆叠技术，在没有采用TTA，系数优化，伪标签等技术的情况下，取得这样的成绩还不错。"
   ]
  },
  {
   "cell_type": "markdown",
   "metadata": {},
   "source": [
    "# General 概述\n",
    "This is a not bad solution to get top2% without *TTA* or coefficient optimization.  \n",
    ">[TTA（test time augmentation, 测试时增强）](https://blog.csdn.net/wydbyxr/article/details/84848903)  \n",
    "可将准确率提高若干个百分点，它就是测试时增强（test time augmentation, TTA）。这里会为原始图像造出多个不同版本，包括不同区域裁剪和更改缩放程度等，并将它们输入到模型中；然后对多个版本进行计算得到平均输出，作为图像的最终输出分数。  \n",
    "有作弊的嫌疑。  \n",
    "这种技术很有效，因为原始图像显示的区域可能会缺少一些重要特征，在模型中输入图像的多个版本并取平均值，能解决上述问题。\n",
    "\n",
    "\n",
    "**Training code has been put on [github](https://github.com/mikelkl/APTOS2019)**  \n",
    "**[inference code](https://www.kaggle.com/mikelkl/43th-place-top2-solution-stacking-inference)** (Kaggle上的推理代码)  \n",
    "**For detailed summary, please refer to [this blog](https://zhuanlan.zhihu.com/p/81695773)**  (知乎上的细节总结)"
   ]
  },
  {
   "cell_type": "markdown",
   "metadata": {},
   "source": [
    "# Our Solution 我们的方案\n",
    "## Data Augumentation 数据增强\n",
    "-  Introduce [2015 Diabetic Retinopathy competition data](https://www.kaggle.com/tanlikesmath/diabetic-retinopathy-resized)\n",
    "- Conduct regular transformations that create less black padding 执行常规转换，以创建更少的黑色填充\n",
    "  - do_flip\n",
    "  - flip_vert\n",
    "  - max_zoom\n",
    "  \n",
    "## Preprocessing 预处理\n",
    "- Thanks to the [@Neuron Engineer](https://www.kaggle.com/ratthachat), we refer to his [APTOS [UpdatedV14] Preprocessing- Ben's & Cropping](https://www.kaggle.com/ratthachat/aptos-updatedv14-preprocessing-ben-s-cropping), and set `sigmaX=10`\n",
    "\n",
    "## Pretrained Model 预训练模型\n",
    "- We choose [EfficientNet-PyTorch](https://github.com/lukemelas/EfficientNet-PyTorch) as our base model, this series model are quite accurate and fast to train.\n",
    ">使用Ben的预处理算法，滤波去除光照影响并剪切去除黑边\n",
    "\n",
    "## Training 训练\n",
    "- Because this is a ordinal classification task, we train it as regression problem.由于这是一个有序分类任务，我们将其按回归问题训练\n",
    "- We first pretrain model on 2015 data, then finetune on 2019 data. 先在2015数据上预训练模型，然后在2019数据上微调\n",
    ">未提供私人数据库，提示用作者放在github上的训练代码，自己训练\n",
    "\n",
    "## Ensemble 堆叠 \n",
    "### Stage 1\n",
    "- Train `efficientnet-b3, efficientnet-b4, efficientnet-b5` models on splitted 5-fold data resulting in 15 base models.\n",
    "\n",
    "### Stage 2\n",
    "- Train [xgboost](https://github.com/dmlc/xgboost), [svr](https://scikit-learn.org/stable/modules/generated/sklearn.svm.SVR.html), [catboost](https://github.com/catboost/catboost) models on logits output of stage 1 base model.\n",
    "\n",
    "### Stage 3\n",
    "- Bagging from stage 2 models"
   ]
  },
  {
   "cell_type": "code",
   "execution_count": 1,
   "metadata": {
    "_cell_guid": "b1076dfc-b9ad-4769-8c92-a6c4dae69d19",
    "_uuid": "8f2839f25d086af736a60e9eeb907d3b93b6e0e5"
   },
   "outputs": [
    {
     "name": "stderr",
     "output_type": "stream",
     "text": [
      "/home/user02/anaconda3/envs/py36/lib/python3.6/site-packages/google/colab/data_table.py:30: UserWarning: IPython.utils.traitlets has moved to a top-level traitlets package.\n",
      "  from IPython.utils import traitlets as _traitlets\n"
     ]
    }
   ],
   "source": [
    "%reload_ext autoreload\n",
    "%autoreload 2\n",
    "%matplotlib inline\n",
    "import pandas as pd\n",
    "\n",
    "import os\n",
    "import cv2\n",
    "import torch\n",
    "import numpy as np\n",
    "\n",
    "import sys\n",
    "package_dir = '../input/efficientnet/efficientnet-pytorch/EfficientNet-PyTorch/'\n",
    "sys.path.insert(0, package_dir)\n",
    "\n",
    "import efficientnet_pytorch \n",
    "\n",
    "from sklearn.metrics import cohen_kappa_score\n",
    "from fastai.vision import *\n",
    "from torch.nn import functional as F\n",
    "import time\n",
    "import pickle as pk\n",
    "\n",
    "#time clock counting\n",
    "start = time.time()"
   ]
  },
  {
   "cell_type": "code",
   "execution_count": 2,
   "metadata": {
    "_cell_guid": "79c7e3d0-c299-4dcb-8224-4455121ee9b0",
    "_uuid": "d629ff2d2480ee46fbb7e2d37f6b5fab8052498a"
   },
   "outputs": [],
   "source": [
    "import random\n",
    "\n",
    "def seed_everything(seed):\n",
    "    random.seed(seed)\n",
    "    os.environ['PYTHONHASHSEED'] = str(seed)\n",
    "    np.random.seed(seed)\n",
    "    torch.manual_seed(seed)\n",
    "    torch.cuda.manual_seed(seed)\n",
    "    torch.backends.cudnn.deterministic = True\n",
    "SEED = 999\n",
    "seed_everything(SEED)"
   ]
  },
  {
   "cell_type": "code",
   "execution_count": 3,
   "metadata": {},
   "outputs": [],
   "source": [
    "# 最佳模型文件的目录\n",
    "deployment_dir = \"../output/inference\"\n",
    "\n",
    "# kappa系数\n",
    "def qk(y_pred, y):\n",
    "    k = torch.tensor(cohen_kappa_score(torch.round(y_pred), y, weights='quadratic'), device='cuda:0')\n",
    "    k[k != k] = 0\n",
    "    k[torch.isinf(k)] = 0\n",
    "    \n",
    "    return k\n",
    "\n",
    "test_df = pd.read_csv('../input/aptos2019-blindness-detection/sample_submission.csv')  # 读入测试文件"
   ]
  },
  {
   "cell_type": "markdown",
   "metadata": {},
   "source": [
    "# Preprocess Image and save on disk"
   ]
  },
  {
   "cell_type": "markdown",
   "metadata": {},
   "source": [
    "测试样本需要进行与训练样本相同的预处理过程，存入指定的磁盘位置"
   ]
  },
  {
   "cell_type": "code",
   "execution_count": 4,
   "metadata": {},
   "outputs": [],
   "source": [
    "from tqdm.notebook import tqdm\n",
    "\n",
    "from PIL import Image\n",
    "import multiprocessing as mp\n",
    "\n",
    "# 切剪图像\n",
    "def crop_image_from_gray(img, tol=7):\n",
    "    if img.ndim ==2:\n",
    "        mask = img>tol\n",
    "        return img[np.ix_(mask.any(1),mask.any(0))]\n",
    "    elif img.ndim==3:\n",
    "        gray_img = cv2.cvtColor(img, cv2.COLOR_RGB2GRAY)\n",
    "        mask = gray_img>tol\n",
    "        \n",
    "        check_shape = img[:,:,0][np.ix_(mask.any(1),mask.any(0))].shape[0]\n",
    "        if (check_shape == 0): # image is too dark so that we crop out everything,\n",
    "            return img # return original image\n",
    "        else:\n",
    "            img1=img[:,:,0][np.ix_(mask.any(1),mask.any(0))]\n",
    "            img2=img[:,:,1][np.ix_(mask.any(1),mask.any(0))]\n",
    "            img3=img[:,:,2][np.ix_(mask.any(1),mask.any(0))]\n",
    "            # print(img1.shape,img2.shape,img3.shape)\n",
    "            img = np.stack([img1,img2,img3],axis=-1)\n",
    "            # print(img.shape)\n",
    "        return img\n",
    "\n",
    "# 加载图像并完成预处理\n",
    "IMG_SIZE = 512\n",
    "def load_ben_color(path, sigmaX=10):\n",
    "    image = cv2.imread(path)  # 读入图像\n",
    "    image = cv2.cvtColor(image, cv2.COLOR_BGR2RGB)  #颜色通道变换\n",
    "    image = crop_image_from_gray(image)  # 切剪图像\n",
    "    image = cv2.resize(image, (IMG_SIZE, IMG_SIZE))  # 尺寸变换\n",
    "    image=cv2.addWeighted(image, 4, cv2.GaussianBlur( image , (0,0) , sigmaX) ,-4 ,128)  # 去除光照影响\n",
    "        \n",
    "    return image\n",
    "\n",
    "# 读入原图，完成预处理后保存到指定位置\n",
    "def process(q, iolock):\n",
    "    while True:\n",
    "        stuff = q.get()\n",
    "        if stuff is None:\n",
    "            break\n",
    "        idx, row = stuff\n",
    "        path=f\"../input/aptos2019-blindness-detection/test_images/{row['id_code']}.png\"\n",
    "        image = load_ben_color(path,sigmaX=10)  # 加载图像并完成预处理\n",
    "        Image.fromarray(image).save(os.path.join(save_dir, \"{}.png\".format(row['id_code'])))  # 保存图像"
   ]
  },
  {
   "cell_type": "code",
   "execution_count": 5,
   "metadata": {},
   "outputs": [],
   "source": [
    "# 保存图像路径\n",
    "save_dir = \"../input/aptos2019-blindness-detection/test_images_ben_preprocessing_sigmaX10(2)\"\n",
    "if not os.path.exists(save_dir):\n",
    "    os.mkdir(save_dir)"
   ]
  },
  {
   "cell_type": "code",
   "execution_count": 6,
   "metadata": {},
   "outputs": [
    {
     "data": {
      "application/vnd.jupyter.widget-view+json": {
       "model_id": "09e65a1e1aae4a2f8a94cdfb24cb20ed",
       "version_major": 2,
       "version_minor": 0
      },
      "text/plain": [
       "HBox(children=(FloatProgress(value=1.0, bar_style='info', max=1.0), HTML(value='')))"
      ]
     },
     "metadata": {},
     "output_type": "display_data"
    },
    {
     "name": "stdout",
     "output_type": "stream",
     "text": [
      "\n",
      "Preprocessing and save takes time ... 172.14638113975525 seconds , 0.04781843920548757 hours\n"
     ]
    }
   ],
   "source": [
    "sv_t1 = time.time()\n",
    "NCORE = 20  # 使用20个处理器线程并行处理\n",
    "q = mp.Queue(maxsize=NCORE)\n",
    "iolock = mp.Lock()\n",
    "pool = mp.Pool(NCORE, initializer=process, initargs=(q, iolock))\n",
    "for idx, row in tqdm(test_df.iterrows()):\n",
    "    stuff = (idx, row)\n",
    "    q.put(stuff)  # blocks until q below its max size\n",
    "for _ in range(NCORE):  # tell workers we're done\n",
    "    q.put(None)\n",
    "pool.close()\n",
    "pool.join()  \n",
    "sv_t2 = time.time()\n",
    "sv_dur = sv_t2 - sv_t1\n",
    "print('Preprocessing and save takes time ... {} seconds , {} hours'.format(sv_dur,sv_dur/3600))\n",
    "# 原 Preprocessing and save takes time ... 357.6067280769348 seconds , 0.099335202243593 hours"
   ]
  },
  {
   "cell_type": "code",
   "execution_count": 9,
   "metadata": {},
   "outputs": [
    {
     "name": "stdout",
     "output_type": "stream",
     "text": [
      "580M\t../input/aptos2019-blindness-detection/test_images_ben_preprocessing_sigmaX10(2)\n"
     ]
    }
   ],
   "source": [
    "# du命令(参数sh表示按人阅读的方式按总体计算) 显示文件或目录所占用的磁盘空间\n",
    "# !du -sh '../input/aptos2019-blindness-detection/test_images_ben_preprocessing_sigmaX10(2)'  # 原580M\t../input/test_images_ben_preprocessing_sigmaX10"
   ]
  },
  {
   "cell_type": "markdown",
   "metadata": {},
   "source": [
    "# Stage1&2 Inference 步骤1&2 推理"
   ]
  },
  {
   "cell_type": "markdown",
   "metadata": {},
   "source": [
    "测试集进行预测和评估"
   ]
  },
  {
   "cell_type": "code",
   "execution_count": 11,
   "metadata": {},
   "outputs": [
    {
     "data": {
      "text/html": [],
      "text/plain": [
       "<IPython.core.display.HTML object>"
      ]
     },
     "metadata": {},
     "output_type": "display_data"
    },
    {
     "name": "stdout",
     "output_type": "stream",
     "text": [
      "(1928, 1)\n"
     ]
    },
    {
     "data": {
      "text/html": [],
      "text/plain": [
       "<IPython.core.display.HTML object>"
      ]
     },
     "metadata": {},
     "output_type": "display_data"
    },
    {
     "name": "stdout",
     "output_type": "stream",
     "text": [
      "(1928, 1)\n"
     ]
    },
    {
     "data": {
      "text/html": [],
      "text/plain": [
       "<IPython.core.display.HTML object>"
      ]
     },
     "metadata": {},
     "output_type": "display_data"
    },
    {
     "name": "stdout",
     "output_type": "stream",
     "text": [
      "(1928, 1)\n"
     ]
    },
    {
     "data": {
      "text/html": [],
      "text/plain": [
       "<IPython.core.display.HTML object>"
      ]
     },
     "metadata": {},
     "output_type": "display_data"
    },
    {
     "name": "stdout",
     "output_type": "stream",
     "text": [
      "(1928, 1)\n"
     ]
    },
    {
     "data": {
      "text/html": [],
      "text/plain": [
       "<IPython.core.display.HTML object>"
      ]
     },
     "metadata": {},
     "output_type": "display_data"
    },
    {
     "name": "stdout",
     "output_type": "stream",
     "text": [
      "(1928, 1)\n"
     ]
    },
    {
     "data": {
      "text/html": [],
      "text/plain": [
       "<IPython.core.display.HTML object>"
      ]
     },
     "metadata": {},
     "output_type": "display_data"
    },
    {
     "name": "stdout",
     "output_type": "stream",
     "text": [
      "(1928, 1)\n"
     ]
    },
    {
     "data": {
      "text/html": [],
      "text/plain": [
       "<IPython.core.display.HTML object>"
      ]
     },
     "metadata": {},
     "output_type": "display_data"
    },
    {
     "name": "stdout",
     "output_type": "stream",
     "text": [
      "(1928, 1)\n"
     ]
    },
    {
     "data": {
      "text/html": [],
      "text/plain": [
       "<IPython.core.display.HTML object>"
      ]
     },
     "metadata": {},
     "output_type": "display_data"
    },
    {
     "name": "stdout",
     "output_type": "stream",
     "text": [
      "(1928, 1)\n"
     ]
    },
    {
     "data": {
      "text/html": [],
      "text/plain": [
       "<IPython.core.display.HTML object>"
      ]
     },
     "metadata": {},
     "output_type": "display_data"
    },
    {
     "name": "stdout",
     "output_type": "stream",
     "text": [
      "(1928, 1)\n"
     ]
    },
    {
     "data": {
      "text/html": [],
      "text/plain": [
       "<IPython.core.display.HTML object>"
      ]
     },
     "metadata": {},
     "output_type": "display_data"
    },
    {
     "name": "stdout",
     "output_type": "stream",
     "text": [
      "(1928, 1)\n"
     ]
    },
    {
     "data": {
      "text/html": [],
      "text/plain": [
       "<IPython.core.display.HTML object>"
      ]
     },
     "metadata": {},
     "output_type": "display_data"
    },
    {
     "name": "stdout",
     "output_type": "stream",
     "text": [
      "(1928, 1)\n"
     ]
    },
    {
     "data": {
      "text/html": [],
      "text/plain": [
       "<IPython.core.display.HTML object>"
      ]
     },
     "metadata": {},
     "output_type": "display_data"
    },
    {
     "name": "stdout",
     "output_type": "stream",
     "text": [
      "(1928, 1)\n"
     ]
    },
    {
     "data": {
      "text/html": [],
      "text/plain": [
       "<IPython.core.display.HTML object>"
      ]
     },
     "metadata": {},
     "output_type": "display_data"
    },
    {
     "name": "stdout",
     "output_type": "stream",
     "text": [
      "(1928, 1)\n"
     ]
    },
    {
     "data": {
      "text/html": [],
      "text/plain": [
       "<IPython.core.display.HTML object>"
      ]
     },
     "metadata": {},
     "output_type": "display_data"
    },
    {
     "name": "stdout",
     "output_type": "stream",
     "text": [
      "(1928, 1)\n"
     ]
    },
    {
     "data": {
      "text/html": [],
      "text/plain": [
       "<IPython.core.display.HTML object>"
      ]
     },
     "metadata": {},
     "output_type": "display_data"
    },
    {
     "name": "stdout",
     "output_type": "stream",
     "text": [
      "(1928, 1)\n",
      "[15:47:24] WARNING: /workspace/src/objective/regression_obj.cu:152: reg:linear is now deprecated in favor of reg:squarederror.\n"
     ]
    },
    {
     "data": {
      "image/png": "[encoded data removed]",
      "text/plain": [
       "<Figure size 432x288 with 1 Axes>"
      ]
     },
     "metadata": {
      "needs_background": "light"
     },
     "output_type": "display_data"
    },
    {
     "data": {
      "image/png": "[encoded data removed]",
      "text/plain": [
       "<Figure size 432x288 with 1 Axes>"
      ]
     },
     "metadata": {
      "needs_background": "light"
     },
     "output_type": "display_data"
    },
    {
     "data": {
      "image/png": "[encoded data removed]",
      "text/plain": [
       "<Figure size 432x288 with 1 Axes>"
      ]
     },
     "metadata": {
      "needs_background": "light"
     },
     "output_type": "display_data"
    },
    {
     "name": "stdout",
     "output_type": "stream",
     "text": [
      "Inference duration  376.38926935195923 0.10455257481998867\n"
     ]
    }
   ],
   "source": [
    "inf1_t1 = time.time()\n",
    "\n",
    "# 使用阶段二生成的最佳模型，预测测试集\n",
    "b3_models = [\"efficientnet-b3_1202_14-10-24_stage2_f1\", \n",
    "             \"efficientnet-b3_1202_14-10-24_stage2_f2\",\n",
    "             \"efficientnet-b3_1202_14-10-24_stage2_f3\", \n",
    "             \"efficientnet-b3_1202_14-10-24_stage2_f4\",\n",
    "             \"efficientnet-b3_1202_14-10-24_stage2_f5\"]\n",
    "\n",
    "b3_test_logits_list = []\n",
    "for m in b3_models:\n",
    "    learn = load_learner(deployment_dir, \"{}.pkl\".format(m))\n",
    "\n",
    "    learn.data.add_test(ImageList.from_df(test_df,\n",
    "                                      '../input/aptos2019-blindness-detection',\n",
    "                                      folder='test_images_ben_preprocessing_sigmaX10',\n",
    "                                      suffix='.png'))\n",
    "\n",
    "    logits,_ = learn.get_preds(DatasetType.Test)\n",
    "    logits = logits.numpy()\n",
    "    b3_test_logits_list.append(logits)\n",
    "    \n",
    "    print(logits.shape)\n",
    "\n",
    "\n",
    "b4_models = [\"efficientnet-b4_1202_14-10-24_stage2_f1\", \n",
    "             \"efficientnet-b4_1202_14-10-24_stage2_f2\",\n",
    "             \"efficientnet-b4_1202_14-10-24_stage2_f3\", \n",
    "             \"efficientnet-b4_1202_14-10-24_stage2_f4\",\n",
    "             \"efficientnet-b4_1202_14-10-24_stage2_f5\"]\n",
    "\n",
    "b4_test_logits_list = []\n",
    "for m in b4_models:\n",
    "    learn = load_learner(deployment_dir, \"{}.pkl\".format(m))\n",
    "\n",
    "    learn.data.add_test(ImageList.from_df(test_df,\n",
    "                                      '../input/aptos2019-blindness-detection',\n",
    "                                      folder='test_images_ben_preprocessing_sigmaX10',\n",
    "                                      suffix='.png'))\n",
    "\n",
    "    logits,_ = learn.get_preds(DatasetType.Test)\n",
    "    logits = logits.numpy()\n",
    "    b4_test_logits_list.append(logits)\n",
    "    \n",
    "    print(logits.shape)\n",
    "    \n",
    "\n",
    "b5_models = [\"efficientnet-b5_1202_14-10-24_stage2_f1\", \n",
    "             \"efficientnet-b5_1202_14-10-24_stage2_f2\",\n",
    "             \"efficientnet-b5_1202_14-10-24_stage2_f3\", \n",
    "             \"efficientnet-b5_1202_14-10-24_stage2_f4\",\n",
    "             \"efficientnet-b5_1202_14-10-24_stage2_f5\"]\n",
    "\n",
    "b5_test_logits_list = []\n",
    "for m in b5_models:\n",
    "    learn = load_learner(deployment_dir, \"{}.pkl\".format(m))\n",
    "\n",
    "    learn.data.add_test(ImageList.from_df(test_df,\n",
    "                                      '../input/aptos2019-blindness-detection',\n",
    "                                      folder='test_images_ben_preprocessing_sigmaX10',\n",
    "                                      suffix='.png'))\n",
    "    logits,_ = learn.get_preds(DatasetType.Test)\n",
    "    logits = logits.numpy()\n",
    "    b5_test_logits_list.append(logits)\n",
    "    \n",
    "    print(logits.shape)\n",
    "\n",
    "# 加载grid对象，各自包含某种提升评估器，以及经过网格搜索得到最佳超参数\n",
    "with open(os.path.join(deployment_dir, \"xgboost-1202_14-10-24.pkl\"), \"rb\") as f:\n",
    "    xlf = pk.load(f)\n",
    "    \n",
    "with open(os.path.join(deployment_dir, \"svr-1202_14-10-24.pkl\"), \"rb\") as f:\n",
    "    svr = pk.load(f)\n",
    "\n",
    "with open(os.path.join(deployment_dir, \"cb-1202_14-10-24.pkl\"), \"rb\") as f:\n",
    "    cb = pk.load(f)\n",
    "\n",
    "# b3,b4,b5系列模型，在2015数据集中训练后，又在2019年数据集中进行了5折交叉验证训练\n",
    "# 2019的测试集，在这些模型上预测得到预测值，预测值由已搜索到最佳超参数的评估器整合\n",
    "# 5 test feature then avg\n",
    "results_xlf = []\n",
    "results_svr = []\n",
    "results_cb = []\n",
    "for b3, b4, b5 in zip(b3_test_logits_list, b4_test_logits_list, b5_test_logits_list):\n",
    "    X_test = np.concatenate([b3, b4, b5], axis=1)\n",
    "    \n",
    "    res_xlf = xlf.predict(X_test)\n",
    "    results_xlf.append(res_xlf)\n",
    "    \n",
    "    res_svr = svr.predict(X_test)\n",
    "    results_svr.append(res_svr)\n",
    "    \n",
    "    res_cb = cb.predict(X_test)\n",
    "    results_cb.append(res_cb)\n",
    "\n",
    "# 平均\n",
    "avg_res_xlf = np.average(results_xlf, axis=0)\n",
    "avg_res_svr = np.average(results_svr, axis=0)\n",
    "avg_res_cb = np.average(results_cb, axis=0)\n",
    "\n",
    "# 数据类型转换\n",
    "y_pred_xlf = np.round(avg_res_xlf).astype(int)\n",
    "y_pred_svr = np.round(avg_res_svr).astype(int)\n",
    "y_pred_cb = np.round(avg_res_cb).astype(int)\n",
    "\n",
    "test_df.diagnosis = y_pred_xlf\n",
    "test_df.hist()\n",
    "plt.show()\n",
    "\n",
    "test_df.diagnosis = y_pred_svr\n",
    "test_df.hist()\n",
    "plt.show()\n",
    "\n",
    "test_df.diagnosis = y_pred_cb\n",
    "test_df.hist()\n",
    "plt.show()\n",
    "\n",
    "# 计算推理过程的时间消耗\n",
    "inf1_t2 = time.time()\n",
    "inf1_dur = inf1_t2 - inf1_t1\n",
    "print('Inference duration ',inf1_dur, inf1_dur/3600)\n",
    "# (1928, 1)\n",
    "# [03:31:21] WARNING: /workspace/src/objective/regression_obj.cu:152: reg:linear is now deprecated in favor of reg:squarederror.\n",
    "# Inference duration  349.231999874115 0.09700888885392082"
   ]
  },
  {
   "cell_type": "code",
   "execution_count": 8,
   "metadata": {},
   "outputs": [
    {
     "name": "stdout",
     "output_type": "stream",
     "text": [
      "(1928, 1)\n",
      "[03:31:21] WARNING: /workspace/src/objective/regression_obj.cu:152: reg:linear is now deprecated in favor of reg:squarederror.\n"
     ]
    },
    {
     "data": {
      "image/png": "[encoded data removed]",
      "text/plain": [
       "<Figure size 432x288 with 1 Axes>"
      ]
     },
     "metadata": {
      "needs_background": "light"
     },
     "output_type": "display_data"
    },
    {
     "data": {
      "image/png": "[encoded data removed]",
      "text/plain": [
       "<Figure size 432x288 with 1 Axes>"
      ]
     },
     "metadata": {
      "needs_background": "light"
     },
     "output_type": "display_data"
    },
    {
     "data": {
      "image/png": "[encoded data removed]",
      "text/plain": [
       "<Figure size 432x288 with 1 Axes>"
      ]
     },
     "metadata": {
      "needs_background": "light"
     },
     "output_type": "display_data"
    },
    {
     "name": "stdout",
     "output_type": "stream",
     "text": [
      "Inference duration  349.231999874115 0.09700888885392082\n"
     ]
    }
   ],
   "source": [
    "inf1_t1 = time.time()\n",
    "\n",
    "# 使用阶段二生成的最佳模型，预测测试集\n",
    "b3_models = [\"efficientnet-b3_1202_14-10-24_stage2_f1\", \n",
    "             \"efficientnet-b3_1202_14-10-24_stage2_f2\",\n",
    "             \"efficientnet-b3_1202_14-10-24_stage2_f3\", \n",
    "             \"efficientnet-b3_1202_14-10-24_stage2_f4\",\n",
    "             \"efficientnet-b3_1202_14-10-24_stage2_f5\"]\n",
    "\n",
    "b3_test_logits_list = []\n",
    "for m in b3_models:\n",
    "    learn = load_learner(deployment_dir, \"{}.pkl\".format(m))\n",
    "\n",
    "    learn.data.add_test(ImageList.from_df(test_df,\n",
    "                                      '../input',\n",
    "                                      folder='test_images_ben_preprocessing_sigmaX10',\n",
    "                                      suffix='.png'))\n",
    "\n",
    "    logits,_ = learn.get_preds(DatasetType.Test)\n",
    "    logits = logits.numpy()\n",
    "    b3_test_logits_list.append(logits)\n",
    "    \n",
    "    print(logits.shape)\n",
    "\n",
    "\n",
    "b4_models = [\"efficientnet-b4_1202_14-10-24_stage2_f1\", \n",
    "             \"efficientnet-b4_1202_14-10-24_stage2_f2\",\n",
    "             \"efficientnet-b4_1202_14-10-24_stage2_f3\", \n",
    "             \"efficientnet-b4_1202_14-10-24_stage2_f4\",\n",
    "             \"efficientnet-b4_1202_14-10-24_stage2_f5\"]\n",
    "\n",
    "b4_test_logits_list = []\n",
    "for m in b4_models:\n",
    "    learn = load_learner(deployment_dir, \"{}.pkl\".format(m))\n",
    "\n",
    "    learn.data.add_test(ImageList.from_df(test_df,\n",
    "                                      '../input',\n",
    "                                      folder='test_images_ben_preprocessing_sigmaX10',\n",
    "                                      suffix='.png'))\n",
    "\n",
    "    logits,_ = learn.get_preds(DatasetType.Test)\n",
    "    logits = logits.numpy()\n",
    "    b4_test_logits_list.append(logits)\n",
    "    \n",
    "    print(logits.shape)\n",
    "    \n",
    "\n",
    "b5_models = [\"efficientnet-b5_1202_14-10-24_stage2_f1\", \n",
    "             \"efficientnet-b5_1202_14-10-24_stage2_f2\",\n",
    "             \"efficientnet-b5_1202_14-10-24_stage2_f3\", \n",
    "             \"efficientnet-b5_1202_14-10-24_stage2_f4\",\n",
    "             \"efficientnet-b5_1202_14-10-24_stage2_f5\"]\n",
    "\n",
    "b5_test_logits_list = []\n",
    "for m in b5_models:\n",
    "    learn = load_learner(deployment_dir, \"{}.pkl\".format(m))\n",
    "\n",
    "    learn.data.add_test(ImageList.from_df(test_df,\n",
    "                                      '../input',\n",
    "                                      folder='test_images_ben_preprocessing_sigmaX10',\n",
    "                                      suffix='.png'))\n",
    "    logits,_ = learn.get_preds(DatasetType.Test)\n",
    "    logits = logits.numpy()\n",
    "    b5_test_logits_list.append(logits)\n",
    "    \n",
    "    print(logits.shape)\n",
    "\n",
    "# 加载grid对象，各自包含某种提升评估器，以及经过网格搜索得到最佳超参数\n",
    "with open(os.path.join(deployment_dir, \"xgboost-1202_14-10-24.pkl\"), \"rb\") as f:\n",
    "    xlf = pk.load(f)\n",
    "    \n",
    "with open(os.path.join(deployment_dir, \"svr-1202_14-10-24.pkl\"), \"rb\") as f:\n",
    "    svr = pk.load(f)\n",
    "\n",
    "with open(os.path.join(deployment_dir, \"cb-1202_14-10-24.pkl\"), \"rb\") as f:\n",
    "    cb = pk.load(f)\n",
    "\n",
    "# b3,b4,b5系列模型，在2015数据集中训练后，又在2019年数据集中进行了5折交叉验证训练\n",
    "# 2019的测试集，在这些模型上预测得到预测值，预测值由已搜索到最佳超参数的评估器整合\n",
    "# 5 test feature then avg\n",
    "results_xlf = []\n",
    "results_svr = []\n",
    "results_cb = []\n",
    "for b3, b4, b5 in zip(b3_test_logits_list, b4_test_logits_list, b5_test_logits_list):\n",
    "    X_test = np.concatenate([b3, b4, b5], axis=1)\n",
    "    \n",
    "    res_xlf = xlf.predict(X_test)\n",
    "    results_xlf.append(res_xlf)\n",
    "    \n",
    "    res_svr = svr.predict(X_test)\n",
    "    results_svr.append(res_svr)\n",
    "    \n",
    "    res_cb = cb.predict(X_test)\n",
    "    results_cb.append(res_cb)\n",
    "\n",
    "# 平均\n",
    "avg_res_xlf = np.average(results_xlf, axis=0)\n",
    "avg_res_svr = np.average(results_svr, axis=0)\n",
    "avg_res_cb = np.average(results_cb, axis=0)\n",
    "\n",
    "# 数据类型转换\n",
    "y_pred_xlf = np.round(avg_res_xlf).astype(int)\n",
    "y_pred_svr = np.round(avg_res_svr).astype(int)\n",
    "y_pred_cb = np.round(avg_res_cb).astype(int)\n",
    "\n",
    "test_df.diagnosis = y_pred_xlf\n",
    "test_df.hist()\n",
    "plt.show()\n",
    "\n",
    "test_df.diagnosis = y_pred_svr\n",
    "test_df.hist()\n",
    "plt.show()\n",
    "\n",
    "test_df.diagnosis = y_pred_cb\n",
    "test_df.hist()\n",
    "plt.show()\n",
    "\n",
    "# 计算推理过程的时间消耗\n",
    "inf1_t2 = time.time()\n",
    "inf1_dur = inf1_t2 - inf1_t1\n",
    "print('Inference duration ',inf1_dur, inf1_dur/3600)\n",
    "# (1928, 1)\n",
    "# [03:31:21] WARNING: /workspace/src/objective/regression_obj.cu:152: reg:linear is now deprecated in favor of reg:squarederror.\n",
    "# Inference duration  349.231999874115 0.09700888885392082"
   ]
  },
  {
   "cell_type": "markdown",
   "metadata": {},
   "source": [
    "# Stage3 Bagging 步骤3装袋"
   ]
  },
  {
   "cell_type": "markdown",
   "metadata": {},
   "source": [
    "## Correlation Analysis 相关性分析"
   ]
  },
  {
   "cell_type": "code",
   "execution_count": 12,
   "metadata": {},
   "outputs": [
    {
     "data": {
      "text/plain": [
       "array([[1.      , 0.996956, 0.998737],\n",
       "       [0.996956, 1.      , 0.996665],\n",
       "       [0.998737, 0.996665, 1.      ]])"
      ]
     },
     "execution_count": 12,
     "metadata": {},
     "output_type": "execute_result"
    }
   ],
   "source": [
    "np.corrcoef([avg_res_xlf, avg_res_svr, avg_res_cb])\n",
    "# array([[1.      , 0.997143, 0.997563],\n",
    "#        [0.997143, 1.      , 0.998309],\n",
    "#        [0.997563, 0.998309, 1.      ]])"
   ]
  },
  {
   "cell_type": "code",
   "execution_count": 13,
   "metadata": {},
   "outputs": [
    {
     "data": {
      "text/plain": [
       "array([[1.      , 0.97545 , 0.984835],\n",
       "       [0.97545 , 1.      , 0.973508],\n",
       "       [0.984835, 0.973508, 1.      ]])"
      ]
     },
     "execution_count": 13,
     "metadata": {},
     "output_type": "execute_result"
    }
   ],
   "source": [
    "np.corrcoef([y_pred_xlf, y_pred_svr, y_pred_cb])\n",
    "# array([[1.      , 0.975527, 0.978376],\n",
    "#        [0.975527, 1.      , 0.983601],\n",
    "#        [0.978376, 0.983601, 1.      ]])"
   ]
  },
  {
   "cell_type": "code",
   "execution_count": 14,
   "metadata": {},
   "outputs": [],
   "source": [
    "def voting(labels, Tweights = None):\n",
    "    if isinstance(labels, list):\n",
    "        X = np.array(labels, dtype=np.int64)   \n",
    "        maj = np.argmax(np.bincount(X, Tweights))\n",
    "    return maj\n",
    "\n",
    "def average(logits, Tweights = None):\n",
    "    avg = np.average(logits, axis=0, weights = Tweights)\n",
    "    return avg"
   ]
  },
  {
   "cell_type": "code",
   "execution_count": 15,
   "metadata": {},
   "outputs": [],
   "source": [
    "# 投票决定最终分级\n",
    "vote_list = [voting([int(avg_res_xlf[idx] + 0.5), \n",
    "                    int(avg_res_svr[idx] + 0.5), \n",
    "                    int(avg_res_cb[idx] + 0.5)]) \n",
    "             for idx in range(len(avg_res_xlf))]"
   ]
  },
  {
   "cell_type": "markdown",
   "metadata": {},
   "source": [
    "# Submission 提交"
   ]
  },
  {
   "cell_type": "code",
   "execution_count": 16,
   "metadata": {},
   "outputs": [
    {
     "data": {
      "image/png": "[encoded data removed]",
      "text/plain": [
       "<Figure size 432x288 with 1 Axes>"
      ]
     },
     "metadata": {
      "needs_background": "light"
     },
     "output_type": "display_data"
    }
   ],
   "source": [
    "test_df.diagnosis = vote_list\n",
    "test_df.hist()\n",
    "plt.show()\n",
    "\n",
    "test_df.to_csv('submission.csv',index=False)"
   ]
  },
  {
   "cell_type": "code",
   "execution_count": 17,
   "metadata": {},
   "outputs": [
    {
     "data": {
      "text/plain": [
       "2    1078\n",
       "0     310\n",
       "3     261\n",
       "1     238\n",
       "4      41\n",
       "Name: diagnosis, dtype: int64"
      ]
     },
     "execution_count": 17,
     "metadata": {},
     "output_type": "execute_result"
    }
   ],
   "source": [
    "test_df['diagnosis'].value_counts()\n",
    "# 2    1122\n",
    "# 0     323\n",
    "# 3     210\n",
    "# 1     209\n",
    "# 4      64"
   ]
  },
  {
   "cell_type": "code",
   "execution_count": 18,
   "metadata": {},
   "outputs": [
    {
     "name": "stdout",
     "output_type": "stream",
     "text": [
      "Whole procedure takes 4852.177564382553 seconds long ...\n",
      "1.347827101217376\n",
      "done\n"
     ]
    }
   ],
   "source": [
    "dur = time.time() -start\n",
    "print('Whole procedure takes {} seconds long ...'.format(dur))\n",
    "print(dur/3600)\n",
    "print ('done')\n",
    "# Whole procedure takes 710.5857803821564 seconds long ...\n",
    "# 0.19738493899504345\n",
    "# done"
   ]
  }
 ],
 "metadata": {
  "kernelspec": {
   "display_name": "Python 3",
   "language": "python",
   "name": "python3"
  },
  "language_info": {
   "codemirror_mode": {
    "name": "ipython",
    "version": 3
   },
   "file_extension": ".py",
   "mimetype": "text/x-python",
   "name": "python",
   "nbconvert_exporter": "python",
   "pygments_lexer": "ipython3",
   "version": "3.6.9"
  },
  "widgets": {
   "application/vnd.jupyter.widget-state+json": {
    "state": {
     "01f3b7773b6d4f5d9a4c93b36833e295": {
      "model_module": "@jupyter-widgets/base",
      "model_module_version": "1.2.0",
      "model_name": "LayoutModel",
      "state": {
       "_model_module": "@jupyter-widgets/base",
       "_model_module_version": "1.2.0",
       "_model_name": "LayoutModel",
       "_view_count": null,
       "_view_module": "@jupyter-widgets/base",
       "_view_module_version": "1.2.0",
       "_view_name": "LayoutView",
       "align_content": null,
       "align_items": null,
       "align_self": null,
       "border": null,
       "bottom": null,
       "display": null,
       "flex": null,
       "flex_flow": null,
       "grid_area": null,
       "grid_auto_columns": null,
       "grid_auto_flow": null,
       "grid_auto_rows": null,
       "grid_column": null,
       "grid_gap": null,
       "grid_row": null,
       "grid_template_areas": null,
       "grid_template_columns": null,
       "grid_template_rows": null,
       "height": null,
       "justify_content": null,
       "justify_items": null,
       "left": null,
       "margin": null,
       "max_height": null,
       "max_width": null,
       "min_height": null,
       "min_width": null,
       "object_fit": null,
       "object_position": null,
       "order": null,
       "overflow": null,
       "overflow_x": null,
       "overflow_y": null,
       "padding": null,
       "right": null,
       "top": null,
       "visibility": null,
       "width": null
      }
     },
     "1a62224627d148658deaa1179410c2bc": {
      "model_module": "@jupyter-widgets/controls",
      "model_module_version": "1.5.0",
      "model_name": "ProgressStyleModel",
      "state": {
       "_model_module": "@jupyter-widgets/controls",
       "_model_module_version": "1.5.0",
       "_model_name": "ProgressStyleModel",
       "_view_count": null,
       "_view_module": "@jupyter-widgets/base",
       "_view_module_version": "1.2.0",
       "_view_name": "StyleView",
       "bar_color": null,
       "description_width": ""
      }
     },
     "5fd84d421e73424db0ca2d6a93d1540a": {
      "model_module": "@jupyter-widgets/controls",
      "model_module_version": "1.5.0",
      "model_name": "IntProgressModel",
      "state": {
       "_dom_classes": [],
       "_model_module": "@jupyter-widgets/controls",
       "_model_module_version": "1.5.0",
       "_model_name": "IntProgressModel",
       "_view_count": null,
       "_view_module": "@jupyter-widgets/controls",
       "_view_module_version": "1.5.0",
       "_view_name": "ProgressView",
       "bar_style": "success",
       "description": "",
       "description_tooltip": null,
       "layout": "IPY_MODEL_bbacf52579d14a09b90aa76a1fc8424b",
       "max": 1,
       "min": 0,
       "orientation": "horizontal",
       "style": "IPY_MODEL_1a62224627d148658deaa1179410c2bc",
       "value": 1
      }
     },
     "6c4938cb92944bcabc576d1a70218e00": {
      "model_module": "@jupyter-widgets/base",
      "model_module_version": "1.2.0",
      "model_name": "LayoutModel",
      "state": {
       "_model_module": "@jupyter-widgets/base",
       "_model_module_version": "1.2.0",
       "_model_name": "LayoutModel",
       "_view_count": null,
       "_view_module": "@jupyter-widgets/base",
       "_view_module_version": "1.2.0",
       "_view_name": "LayoutView",
       "align_content": null,
       "align_items": null,
       "align_self": null,
       "border": null,
       "bottom": null,
       "display": null,
       "flex": null,
       "flex_flow": null,
       "grid_area": null,
       "grid_auto_columns": null,
       "grid_auto_flow": null,
       "grid_auto_rows": null,
       "grid_column": null,
       "grid_gap": null,
       "grid_row": null,
       "grid_template_areas": null,
       "grid_template_columns": null,
       "grid_template_rows": null,
       "height": null,
       "justify_content": null,
       "justify_items": null,
       "left": null,
       "margin": null,
       "max_height": null,
       "max_width": null,
       "min_height": null,
       "min_width": null,
       "object_fit": null,
       "object_position": null,
       "order": null,
       "overflow": null,
       "overflow_x": null,
       "overflow_y": null,
       "padding": null,
       "right": null,
       "top": null,
       "visibility": null,
       "width": null
      }
     },
     "83467eb75fcb47a8a62bf51c041e805f": {
      "model_module": "@jupyter-widgets/controls",
      "model_module_version": "1.5.0",
      "model_name": "HTMLModel",
      "state": {
       "_dom_classes": [],
       "_model_module": "@jupyter-widgets/controls",
       "_model_module_version": "1.5.0",
       "_model_name": "HTMLModel",
       "_view_count": null,
       "_view_module": "@jupyter-widgets/controls",
       "_view_module_version": "1.5.0",
       "_view_name": "HTMLView",
       "description": "",
       "description_tooltip": null,
       "layout": "IPY_MODEL_01f3b7773b6d4f5d9a4c93b36833e295",
       "placeholder": "​",
       "style": "IPY_MODEL_8fdefabb2aee4972947532d03603ad55",
       "value": "1928/|/| 1928/? [05:51&lt;00:00,  4.45it/s]"
      }
     },
     "8fdefabb2aee4972947532d03603ad55": {
      "model_module": "@jupyter-widgets/controls",
      "model_module_version": "1.5.0",
      "model_name": "DescriptionStyleModel",
      "state": {
       "_model_module": "@jupyter-widgets/controls",
       "_model_module_version": "1.5.0",
       "_model_name": "DescriptionStyleModel",
       "_view_count": null,
       "_view_module": "@jupyter-widgets/base",
       "_view_module_version": "1.2.0",
       "_view_name": "StyleView",
       "description_width": ""
      }
     },
     "bbacf52579d14a09b90aa76a1fc8424b": {
      "model_module": "@jupyter-widgets/base",
      "model_module_version": "1.2.0",
      "model_name": "LayoutModel",
      "state": {
       "_model_module": "@jupyter-widgets/base",
       "_model_module_version": "1.2.0",
       "_model_name": "LayoutModel",
       "_view_count": null,
       "_view_module": "@jupyter-widgets/base",
       "_view_module_version": "1.2.0",
       "_view_name": "LayoutView",
       "align_content": null,
       "align_items": null,
       "align_self": null,
       "border": null,
       "bottom": null,
       "display": null,
       "flex": null,
       "flex_flow": null,
       "grid_area": null,
       "grid_auto_columns": null,
       "grid_auto_flow": null,
       "grid_auto_rows": null,
       "grid_column": null,
       "grid_gap": null,
       "grid_row": null,
       "grid_template_areas": null,
       "grid_template_columns": null,
       "grid_template_rows": null,
       "height": null,
       "justify_content": null,
       "justify_items": null,
       "left": null,
       "margin": null,
       "max_height": null,
       "max_width": null,
       "min_height": null,
       "min_width": null,
       "object_fit": null,
       "object_position": null,
       "order": null,
       "overflow": null,
       "overflow_x": null,
       "overflow_y": null,
       "padding": null,
       "right": null,
       "top": null,
       "visibility": null,
       "width": null
      }
     },
     "e66f04052ef640118096f216d14ab77d": {
      "model_module": "@jupyter-widgets/controls",
      "model_module_version": "1.5.0",
      "model_name": "HBoxModel",
      "state": {
       "_dom_classes": [],
       "_model_module": "@jupyter-widgets/controls",
       "_model_module_version": "1.5.0",
       "_model_name": "HBoxModel",
       "_view_count": null,
       "_view_module": "@jupyter-widgets/controls",
       "_view_module_version": "1.5.0",
       "_view_name": "HBoxView",
       "box_style": "",
       "children": [
        "IPY_MODEL_5fd84d421e73424db0ca2d6a93d1540a",
        "IPY_MODEL_83467eb75fcb47a8a62bf51c041e805f"
       ],
       "layout": "IPY_MODEL_6c4938cb92944bcabc576d1a70218e00"
      }
     }
    },
    "version_major": 2,
    "version_minor": 0
   }
  }
 },
 "nbformat": 4,
 "nbformat_minor": 4
}
