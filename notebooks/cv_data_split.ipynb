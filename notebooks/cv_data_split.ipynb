{
 "cells": [
  {
   "cell_type": "raw",
   "metadata": {},
   "source": [
    "#!/usr/bin/env python\n",
    "# -*- coding:utf-8 -*-\n",
    "#@Time: 12/8/20196:04 PM\n",
    "#@Author: AnguliaYang\n",
    "#@File : cv_data_split.py\n",
    "# 划分样本集，对于2015和2019两次竞赛的样本，先保留20%的样本作为测试集，再对80%的训练集划分为5折交叉验证集"
   ]
  },
  {
   "cell_type": "code",
   "execution_count": 1,
   "metadata": {},
   "outputs": [],
   "source": [
    "import pandas as pd\n",
    "from sklearn.model_selection import StratifiedKFold, KFold\n",
    "from sklearn.model_selection import train_test_split\n",
    "import os\n",
    "import numpy as np"
   ]
  },
  {
   "cell_type": "code",
   "execution_count": 2,
   "metadata": {},
   "outputs": [],
   "source": [
    "save_path = '../input/aptos-data-split/'  # 保存最后csv数据文件的目录\n",
    "\n",
    "root_dir_2015 = os.path.join('../input/diabetic-retinopathy-resized/')  # csv数据文件原目录\n",
    "train_2015 = '../input/diabetic-retinopathy-resized/resized_train/ben_preprocessing_sigmaX10/'  # 图片文件目录\n",
    "\n",
    "root_dir_2019 = os.path.join('../input/aptos2019-blindness-detection/')  # csv数据文件原目录\n",
    "train_2019 = '../input/aptos2019-blindness-detection/train_images/train_images_ben_preprocessing_sigmaX10/'  # 图片文件目录\n",
    "\n",
    "test_2019 = '../input/aptos2019-blindness-detection/test_images/'\n",
    "n_splits = 5  # 分折数"
   ]
  },
  {
   "cell_type": "code",
   "execution_count": 3,
   "metadata": {},
   "outputs": [
    {
     "name": "stdout",
     "output_type": "stream",
     "text": [
      "Processing 2015 data(hold-out)...\n",
      "Processing 2015 data(5-fold)...\n",
      "5621\n",
      "5621\n",
      "5620\n",
      "5619\n",
      "5619\n",
      "1407\n",
      "1407\n",
      "1407\n",
      "1403\n",
      "1402\n",
      "Distribution of 2015 Train/Valid\n",
      "\n",
      "is_valid  level\n",
      "False     0        0.731744\n",
      "          2        0.152242\n",
      "          1        0.071530\n",
      "          3        0.024733\n",
      "          4        0.019751\n",
      "True      0        0.746940\n",
      "          2        0.144321\n",
      "          1        0.061628\n",
      "          3        0.025334\n",
      "          4        0.021776\n",
      "Name: level, dtype: float64\n",
      "is_valid  level\n",
      "False     0        20562\n",
      "          2         4278\n",
      "          1         2010\n",
      "          3          695\n",
      "          4          555\n",
      "True      0         5248\n",
      "          2         1014\n",
      "          1          433\n",
      "          3          178\n",
      "          4          153\n",
      "Name: level, dtype: int64\n"
     ]
    },
    {
     "data": {
      "text/plain": [
       "<matplotlib.axes._subplots.AxesSubplot at 0x7fd9a5535ac8>"
      ]
     },
     "execution_count": 3,
     "metadata": {},
     "output_type": "execute_result"
    }
   ],
   "source": [
    "# 划分2015数据集\n",
    "df_2015 = pd.read_csv(root_dir_2015+'trainLabels.csv')\n",
    "\n",
    "# 增加path字段\n",
    "df_2015['path'] = df_2015['image'].map(lambda x: os.path.join(train_2015, '{}.jpeg'.format(x)))  # 合并图片地址并增加path字段\n",
    "\n",
    "# 预留测试集\n",
    "print('Processing 2015 data(hold-out)...')\n",
    "X_train, X_test, y_train, y_test = train_test_split(df_2015['image'], df_2015['level'], test_size=0.2, random_state=64)  # 保留20%的样本作为测试集\n",
    "# df_2015['image']\n",
    "val_idx = df_2015['image'].isin(X_test)  # 检查哪些被选为测试集\n",
    "is_valid = np.zeros(len(df_2015), dtype=bool)\n",
    "is_valid[val_idx] = True  # 将其标记为True\n",
    "df_2015['is_valid'] = is_valid\n",
    "\n",
    "# 5分折（为交叉验证作准备）\n",
    "print('Processing 2015 data(5-fold)...')\n",
    "skf1 = StratifiedKFold(n_splits=n_splits, random_state=0)\n",
    "group = df_2015.groupby('is_valid')\n",
    "for item in group:\n",
    "    X15 = item[1]['image']  # 样本\n",
    "    y15 = item[1]['level']  # 标签\n",
    "    c1 = 0\n",
    "    \n",
    "    for train_idx1, val_idx1 in skf1.split(X15, y15):\n",
    "        print(len(val_idx1))\n",
    "        c1+=1\n",
    "        df_2015.loc[X15.index[train_idx1], 'is_valid'+str(c1)] = False\n",
    "        df_2015.loc[X15.index[val_idx1], 'is_valid'+str(c1)] = True\n",
    "\n",
    "# 保存数据\n",
    "df_2015.to_csv(save_path+'df_2015_cv.csv')\n",
    "\n",
    "# 查看分布图\n",
    "print(\"Distribution of 2015 Train/Valid\\n\")\n",
    "print(df_2015.groupby(\"is_valid\")[\"level\"].value_counts(\"True\"))\n",
    "print(df_2015.groupby(\"is_valid\")[\"level\"].value_counts())\n",
    "df_2015.groupby(\"is_valid\")[\"level\"].value_counts(\"True\").plot(kind=\"bar\")"
   ]
  },
  {
   "cell_type": "code",
   "execution_count": 4,
   "metadata": {},
   "outputs": [
    {
     "name": "stdout",
     "output_type": "stream",
     "text": [
      "Processing 2019 data(hold-out)...\n",
      "Processing 2019 data(5-fold)...\n",
      "588\n",
      "588\n",
      "585\n",
      "584\n",
      "584\n",
      "149\n",
      "147\n",
      "147\n",
      "145\n",
      "145\n",
      "Distribution of 2019 Train/Valid\n",
      "\n",
      "is_valid  diagnosis\n",
      "False     0            0.490611\n",
      "          2            0.274155\n",
      "          1            0.100717\n",
      "          4            0.079208\n",
      "          3            0.055309\n",
      "True      0            0.502046\n",
      "          2            0.267394\n",
      "          1            0.102319\n",
      "          4            0.085948\n",
      "          3            0.042292\n",
      "Name: diagnosis, dtype: float64\n",
      "is_valid  diagnosis\n",
      "False     0            1437\n",
      "          2             803\n",
      "          1             295\n",
      "          4             232\n",
      "          3             162\n",
      "True      0             368\n",
      "          2             196\n",
      "          1              75\n",
      "          4              63\n",
      "          3              31\n",
      "Name: diagnosis, dtype: int64\n"
     ]
    },
    {
     "data": {
      "text/plain": [
       "<matplotlib.axes._subplots.AxesSubplot at 0x7fd9a5013748>"
      ]
     },
     "execution_count": 4,
     "metadata": {},
     "output_type": "execute_result"
    },
    {
     "data": {
      "image/png": "[encoded data removed]",
      "text/plain": [
       "<Figure size 432x288 with 1 Axes>"
      ]
     },
     "metadata": {
      "needs_background": "light"
     },
     "output_type": "display_data"
    }
   ],
   "source": [
    "# 划分2019数据集\n",
    "df_2019 = pd.read_csv(root_dir_2019+'train.csv')\n",
    "\n",
    "# 增加path字段\n",
    "df_2019['path'] = df_2019['id_code'].map(lambda x: os.path.join(train_2019, '{}.png'.format(x)))  # 合并图片地址并增加path字段\n",
    "\n",
    "# 预留测试集\n",
    "print('Processing 2019 data(hold-out)...')\n",
    "X_train, X_test, y_train, y_test = train_test_split(df_2019['id_code'], df_2019['diagnosis'], test_size=0.2, random_state=64)  # 保留20%的样本作为测试集\n",
    "# df_2019['id_code']\n",
    "val_idx = df_2019['id_code'].isin(X_test)  # 检查哪些被选为测试集\n",
    "is_valid = np.zeros(len(df_2019), dtype=bool)\n",
    "is_valid[val_idx] = True  # 将其标记为True\n",
    "df_2019['is_valid'] = is_valid\n",
    "\n",
    "# 5分折（为交叉验证作准备）\n",
    "print('Processing 2019 data(5-fold)...')\n",
    "skf2 = StratifiedKFold(n_splits=n_splits, random_state=0)\n",
    "group = df_2019.groupby('is_valid')\n",
    "for item in group:\n",
    "    X19 = item[1]['id_code']\n",
    "    y19 = item[1]['diagnosis']\n",
    "    c2 = 0\n",
    "    \n",
    "    for train_idx2, val_idx2 in skf2.split(X19, y19):\n",
    "        print(len(val_idx2))\n",
    "        c2+=1\n",
    "        df_2019.loc[X19.index[train_idx2], 'is_valid'+str(c2)] = False\n",
    "        df_2019.loc[X19.index[val_idx2], 'is_valid'+str(c2)] = True\n",
    "\n",
    "# 保存数据\n",
    "df_2019.to_csv(save_path+'df_2019_cv.csv')\n",
    "\n",
    "# 查看分布图\n",
    "print(\"Distribution of 2019 Train/Valid\\n\")\n",
    "print(df_2019.groupby(\"is_valid\")[\"diagnosis\"].value_counts(\"True\"))\n",
    "print(df_2019.groupby(\"is_valid\")[\"diagnosis\"].value_counts())\n",
    "df_2019.groupby(\"is_valid\")[\"diagnosis\"].value_counts(\"True\").plot(kind=\"bar\")"
   ]
  },
  {
   "cell_type": "code",
   "execution_count": null,
   "metadata": {},
   "outputs": [],
   "source": []
  }
 ],
 "metadata": {
  "kernelspec": {
   "display_name": "Python [conda env:py36] *",
   "language": "python",
   "name": "conda-env-py36-py"
  },
  "language_info": {
   "codemirror_mode": {
    "name": "ipython",
    "version": 3
   },
   "file_extension": ".py",
   "mimetype": "text/x-python",
   "name": "python",
   "nbconvert_exporter": "python",
   "pygments_lexer": "ipython3",
   "version": "3.6.9"
  }
 },
 "nbformat": 4,
 "nbformat_minor": 4
}
